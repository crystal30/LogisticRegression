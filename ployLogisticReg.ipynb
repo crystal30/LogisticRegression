{
 "cells": [
  {
   "cell_type": "markdown",
   "metadata": {},
   "source": [
    "实际中的数据不可能直接用直线就能将其分割开，即决策边界在大多情况下不是直线，不是线性的。   \n",
    "所以，同线性回归添加新的特征（高阶项）来拟合非线性数据一样，      \n",
    "在这里，需要添加新的特征（增加高阶项）以满足要求。"
   ]
  },
  {
   "cell_type": "code",
   "execution_count": 1,
   "metadata": {},
   "outputs": [
    {
     "data": {
      "text/plain": [
       "(200, 2)"
      ]
     },
     "execution_count": 1,
     "metadata": {},
     "output_type": "execute_result"
    }
   ],
   "source": [
    "import numpy as np\n",
    "import matplotlib.pyplot as plt\n",
    "np.random.seed(666)\n",
    "X = np.random.normal(0, 1, size = (200, 2))\n",
    "y = np.array(X[:,0]**2 + X[:,1]**2 >= 1.5, dtype = 'int')\n",
    "X.shape"
   ]
  },
  {
   "cell_type": "code",
   "execution_count": 2,
   "metadata": {},
   "outputs": [
    {
     "data": {
      "text/plain": [
       "(200,)"
      ]
     },
     "execution_count": 2,
     "metadata": {},
     "output_type": "execute_result"
    }
   ],
   "source": [
    "y.shape"
   ]
  },
  {
   "cell_type": "code",
   "execution_count": 3,
   "metadata": {},
   "outputs": [
    {
     "data": {
      "image/png": "[encoded data removed]",
      "text/plain": [
       "<matplotlib.figure.Figure at 0x7face2dca630>"
      ]
     },
     "metadata": {},
     "output_type": "display_data"
    }
   ],
   "source": [
    "# 样本可视化\n",
    "plt.scatter(X[y==0, 0], X[y==0, 1], color = 'r')\n",
    "plt.scatter(X[y==1, 0], X[y==1, 1], color = 'b')\n",
    "plt.xlabel(\"feature1\")\n",
    "plt.ylabel(\"feature2\")\n",
    "plt.show()"
   ]
  },
  {
   "cell_type": "markdown",
   "metadata": {},
   "source": [
    "# 一, 用逻辑回归对数据分类"
   ]
  },
  {
   "cell_type": "code",
   "execution_count": 4,
   "metadata": {},
   "outputs": [
    {
     "data": {
      "text/plain": [
       "0.55"
      ]
     },
     "execution_count": 4,
     "metadata": {},
     "output_type": "execute_result"
    }
   ],
   "source": [
    "from ML.LogisticRegression import LogisticRegression\n",
    "from ML.model_selection import train_test_split\n",
    "X_train, X_test, y_train, y_test = train_test_split(X, y)\n",
    "logisticReg = LogisticRegression()\n",
    "logisticReg.fit(X_train, y_train)\n",
    "logisticReg.score(X_test,y_test)"
   ]
  },
  {
   "cell_type": "markdown",
   "metadata": {},
   "source": [
    "可以看到，利用逻辑回归对上述数据进行分类，预测的准确率很低   \n",
    "因为，显而易见，上述图形的决策边界应该为一个圆形，是二阶的， 而逻辑回归的决策边界是线性的，显然不符合要求。"
   ]
  },
  {
   "cell_type": "markdown",
   "metadata": {},
   "source": [
    "可视化上述模型的决策边界"
   ]
  },
  {
   "cell_type": "code",
   "execution_count": 5,
   "metadata": {},
   "outputs": [
    {
     "name": "stderr",
     "output_type": "stream",
     "text": [
      "/home/crystal/anaconda3/lib/python3.6/site-packages/matplotlib/contour.py:967: UserWarning: The following kwargs were not used by contour: 'linewidth'\n",
      "  s)\n"
     ]
    },
    {
     "data": {
      "image/png": "[encoded data removed]",
      "text/plain": [
       "<matplotlib.figure.Figure at 0x7facd7bcaa20>"
      ]
     },
     "metadata": {},
     "output_type": "display_data"
    }
   ],
   "source": [
    "def plot_decision_boundary(model, axis):\n",
    "    x0, x1 = np.meshgrid(\n",
    "        np.linspace(axis[0], axis[1], int((axis[1]-axis[0])*100)),\n",
    "        np.linspace(axis[3], axis[2], int((axis[3]-axis[2])*100))\n",
    "    )\n",
    "    x_new = np.c_[x0.ravel(), x1.ravel()]\n",
    "    \n",
    "    y_predict = model.predict(x_new)\n",
    "    ss = y_predict.reshape(x0.shape)\n",
    "    \n",
    "    from matplotlib.colors import ListedColormap\n",
    "    custom_cmap = ListedColormap(['#EF9A9A', '#FFF59D', '#90CAF9'])\n",
    "    \n",
    "    plt.contourf(x0, x1, ss, linewidth=5, cmap=custom_cmap)\n",
    "    \n",
    "plot_decision_boundary(logisticReg, axis = [-4, 4, -4, 4])\n",
    "plt.scatter(X[y==0, 0], X[y==0, 1], color = 'r')\n",
    "plt.scatter(X[y==1, 0], X[y==1, 1], color = 'b')\n",
    "plt.xlabel(\"x1\")\n",
    "plt.ylabel(\"x2\")\n",
    "plt.show()"
   ]
  },
  {
   "cell_type": "markdown",
   "metadata": {},
   "source": [
    "从上图可以看出，这是一个非常糟糕的分类模型"
   ]
  },
  {
   "cell_type": "markdown",
   "metadata": {},
   "source": [
    "# 二，用多项式逻辑回归对数据分类"
   ]
  },
  {
   "cell_type": "code",
   "execution_count": 6,
   "metadata": {},
   "outputs": [],
   "source": [
    "from sklearn.pipeline import Pipeline\n",
    "from sklearn.preprocessing import PolynomialFeatures\n",
    "from sklearn.preprocessing import StandardScaler\n",
    "\n",
    "\n",
    "def ploy_logisticReg(degree):\n",
    "    return Pipeline([(\"poly\", PolynomialFeatures(degree=degree)),\n",
    "                           (\"std_scaler\", StandardScaler()),\n",
    "                          (\"lin_reg\", LogisticRegression())\n",
    "                    ])\n",
    "\n"
   ]
  },
  {
   "cell_type": "markdown",
   "metadata": {},
   "source": [
    "注意：上述的LogisticRegression 类是我们自己写的，但是仍可以传入管道中，因为我们编写类时是完全按照sklearn\n",
    "的便准进行的，故可以和sklearn中的pipeline 无缝衔接。"
   ]
  },
  {
   "cell_type": "code",
   "execution_count": 7,
   "metadata": {},
   "outputs": [
    {
     "data": {
      "text/plain": [
       "0.925"
      ]
     },
     "execution_count": 7,
     "metadata": {},
     "output_type": "execute_result"
    }
   ],
   "source": [
    "ployLogisticReg = ploy_logisticReg(degree = 2)\n",
    "ployLogisticReg.fit(X_train, y_train)\n",
    "ployLogisticReg.score(X_test, y_test)"
   ]
  },
  {
   "cell_type": "markdown",
   "metadata": {},
   "source": [
    "逻辑回归加入二项式后预测的准确率是不是高了很多。     \n",
    "下面，来看一下ployLogisticRegr 模型的决策边界。"
   ]
  },
  {
   "cell_type": "code",
   "execution_count": 8,
   "metadata": {},
   "outputs": [
    {
     "name": "stderr",
     "output_type": "stream",
     "text": [
      "/home/crystal/anaconda3/lib/python3.6/site-packages/matplotlib/contour.py:967: UserWarning: The following kwargs were not used by contour: 'linewidth'\n",
      "  s)\n"
     ]
    },
    {
     "data": {
      "image/png": "[encoded data removed]",
      "text/plain": [
       "<matplotlib.figure.Figure at 0x7faccf66de48>"
      ]
     },
     "metadata": {},
     "output_type": "display_data"
    }
   ],
   "source": [
    "plot_decision_boundary(ployLogisticReg, axis = [-4, 4, -4, 4])\n",
    "plt.scatter(X[y==0, 0], X[y==0, 1], color = 'r')\n",
    "plt.scatter(X[y==1, 0], X[y==1, 1], color = 'b')\n",
    "plt.xlabel(\"x1\")\n",
    "plt.ylabel(\"x2\")\n",
    "plt.show()"
   ]
  },
  {
   "cell_type": "markdown",
   "metadata": {},
   "source": [
    "这样是不是很完美呢？"
   ]
  },
  {
   "cell_type": "markdown",
   "metadata": {},
   "source": [
    "当然，是集中的数据不可能这样规则,即不可能决策边界正好是一个圆形，二阶的。   \n",
    "所以，在实际中, 往往我们需要调试degree, 以使得到较高的准确率。"
   ]
  },
  {
   "cell_type": "markdown",
   "metadata": {},
   "source": [
    "在本例子中,由于我们假设的数据就是以一个圆形为决策边界,所以 degree=2 为最佳的,若degree>2,就会出现过拟合。   \n",
    "下面，我们用可视化的方法来展示一下。"
   ]
  },
  {
   "cell_type": "code",
   "execution_count": 10,
   "metadata": {},
   "outputs": [
    {
     "data": {
      "text/plain": [
       "0.925"
      ]
     },
     "execution_count": 10,
     "metadata": {},
     "output_type": "execute_result"
    }
   ],
   "source": [
    "ployLogisticReg1 = ploy_logisticReg(degree = 10)\n",
    "ployLogisticReg1.fit(X_train, y_train)\n",
    "ployLogisticReg1.score(X_test, y_test)"
   ]
  },
  {
   "cell_type": "code",
   "execution_count": 11,
   "metadata": {},
   "outputs": [
    {
     "name": "stderr",
     "output_type": "stream",
     "text": [
      "/home/crystal/anaconda3Project/ML/LogisticRegression.py:11: RuntimeWarning: overflow encountered in exp\n",
      "  return 1 / (1 + np.exp(-t))\n",
      "/home/crystal/anaconda3/lib/python3.6/site-packages/matplotlib/contour.py:967: UserWarning: The following kwargs were not used by contour: 'linewidth'\n",
      "  s)\n"
     ]
    },
    {
     "data": {
      "image/png": "[encoded data removed]",
      "text/plain": [
       "<matplotlib.figure.Figure at 0x7faccf1621d0>"
      ]
     },
     "metadata": {},
     "output_type": "display_data"
    }
   ],
   "source": [
    "plot_decision_boundary(ployLogisticReg1, axis = [-4, 4, -4, 4])\n",
    "plt.scatter(X[y==0, 0], X[y==0, 1], color = 'r')\n",
    "plt.scatter(X[y==1, 0], X[y==1, 1], color = 'b')\n",
    "plt.xlabel(\"x1\")\n",
    "plt.ylabel(\"x2\")\n",
    "plt.show()"
   ]
  },
  {
   "cell_type": "markdown",
   "metadata": {},
   "source": [
    "虽然预测的准确率没变, 但是根据决策边界,可以看出，明显过拟合。   \n",
    "当再来新的数据时,不一定能以较高的准确率来预测数据。"
   ]
  },
  {
   "cell_type": "markdown",
   "metadata": {},
   "source": [
    "另外，为了防止过拟合，模型正则化也是一个不错的选择。"
   ]
  },
  {
   "cell_type": "code",
   "execution_count": null,
   "metadata": {},
   "outputs": [],
   "source": []
  }
 ],
 "metadata": {
  "kernelspec": {
   "display_name": "Python 3",
   "language": "python",
   "name": "python3"
  },
  "language_info": {
   "codemirror_mode": {
    "name": "ipython",
    "version": 3
   },
   "file_extension": ".py",
   "mimetype": "text/x-python",
   "name": "python",
   "nbconvert_exporter": "python",
   "pygments_lexer": "ipython3",
   "version": "3.6.4"
  }
 },
 "nbformat": 4,
 "nbformat_minor": 2
}
